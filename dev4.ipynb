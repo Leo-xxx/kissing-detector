{
 "cells": [
  {
   "cell_type": "code",
   "execution_count": null,
   "metadata": {},
   "outputs": [],
   "source": [
    "%load_ext autoreload\n",
    "%autoreload 2"
   ]
  },
  {
   "cell_type": "code",
   "execution_count": 51,
   "metadata": {},
   "outputs": [],
   "source": [
    "import os\n",
    "import glob\n",
    "\n",
    "from experiments import ExperimentRunner\n",
    "import params"
   ]
  },
  {
   "cell_type": "code",
   "execution_count": 54,
   "metadata": {},
   "outputs": [],
   "source": [
    "ex = ExperimentRunner(params.experiment_vggish_only, n_jobs=1)"
   ]
  },
  {
   "cell_type": "code",
   "execution_count": 55,
   "metadata": {},
   "outputs": [
    {
     "name": "stderr",
     "output_type": "stream",
     "text": [
      "Running param set: {'data_path_base': '/Users/aziai/Downloads/vtest_new2', 'conv_model_name': None, 'num_epochs': 10, 'feature_extract': False, 'batch_size': 64, 'lr': 0.001, 'use_vggish': True, 'momentum': 0.9}\n"
     ]
    },
    {
     "name": "stdout",
     "output_type": "stream",
     "text": [
      "Updating ALL params\n",
      "Epoch 0/9\n",
      "----------\n",
      "train Loss: 0.8801 F1: 0.6833 Acc: 0.5190\n",
      "val Loss: 0.5289 F1: 0.8742 Acc: 0.7765\n",
      "\n",
      "Epoch 1/9\n",
      "----------\n",
      "train Loss: 0.8135 F1: 0.6833 Acc: 0.5190\n",
      "val Loss: 0.5584 F1: 0.8742 Acc: 0.7765\n",
      "\n",
      "Epoch 2/9\n",
      "----------\n",
      "train Loss: 0.7179 F1: 0.6833 Acc: 0.5190\n",
      "val Loss: 0.6482 F1: 0.8667 Acc: 0.7647\n",
      "\n",
      "Epoch 3/9\n",
      "----------\n",
      "train Loss: 0.6749 F1: 0.6833 Acc: 0.5190\n",
      "val Loss: 0.6608 F1: 0.8725 Acc: 0.7765\n",
      "\n",
      "Epoch 4/9\n",
      "----------\n",
      "train Loss: 0.6832 F1: 0.6842 Acc: 0.5443\n",
      "val Loss: 0.6556 F1: 0.8467 Acc: 0.7529\n",
      "\n",
      "Epoch 5/9\n",
      "----------\n",
      "train Loss: 0.6969 F1: 0.6667 Acc: 0.5823\n",
      "val Loss: 0.6542 F1: 0.8413 Acc: 0.7647\n",
      "\n",
      "Epoch 6/9\n",
      "----------\n",
      "train Loss: 0.6960 F1: 0.5060 Acc: 0.4810\n",
      "val Loss: 0.6501 F1: 0.8788 Acc: 0.8118\n",
      "\n",
      "Epoch 7/9\n",
      "----------\n",
      "train Loss: 0.6896 F1: 0.5882 Acc: 0.5570\n",
      "val Loss: 0.6488 F1: 0.8837 Acc: 0.8235\n",
      "\n",
      "Epoch 8/9\n",
      "----------\n",
      "train Loss: 0.6764 F1: 0.6667 Acc: 0.6203\n",
      "val Loss: 0.6576 F1: 0.8976 Acc: 0.8471\n",
      "\n",
      "Epoch 9/9\n",
      "----------\n",
      "train Loss: 0.6710 F1: 0.7253 Acc: 0.6835\n",
      "val Loss: 0.6590 F1: 0.8710 Acc: 0.8118\n",
      "\n",
      "Training complete in 0m 56s\n",
      "Best val F1  : 0.897638\n",
      "Best val Acc : 0.847059\n"
     ]
    },
    {
     "name": "stderr",
     "output_type": "stream",
     "text": [
      "Running param set: {'data_path_base': '/Users/aziai/Downloads/vtest_new2', 'conv_model_name': None, 'num_epochs': 10, 'feature_extract': True, 'batch_size': 64, 'lr': 0.001, 'use_vggish': True, 'momentum': 0.9}\n"
     ]
    },
    {
     "name": "stdout",
     "output_type": "stream",
     "text": [
      "Params to update\n",
      "* combined.weight\n",
      "* combined.bias\n",
      "Epoch 0/9\n",
      "----------\n",
      "train Loss: 0.7826 F1: 0.6833 Acc: 0.5190\n",
      "val Loss: 0.5453 F1: 0.8742 Acc: 0.7765\n",
      "\n",
      "Epoch 1/9\n",
      "----------\n",
      "train Loss: 0.7525 F1: 0.6833 Acc: 0.5190\n",
      "val Loss: 0.5790 F1: 0.8742 Acc: 0.7765\n",
      "\n",
      "Epoch 2/9\n",
      "----------\n",
      "train Loss: 0.7158 F1: 0.6833 Acc: 0.5190\n",
      "val Loss: 0.6449 F1: 0.8742 Acc: 0.7765\n",
      "\n",
      "Epoch 3/9\n",
      "----------\n",
      "train Loss: 0.6936 F1: 0.6838 Acc: 0.5316\n",
      "val Loss: 0.7350 F1: 0.0870 Acc: 0.2588\n",
      "\n",
      "Epoch 4/9\n",
      "----------\n",
      "train Loss: 0.7142 F1: nan Acc: 0.4430\n",
      "val Loss: 0.8224 F1: nan Acc: 0.2235\n",
      "\n",
      "Epoch 5/9\n",
      "----------\n",
      "train Loss: 0.7382 F1: nan Acc: 0.4810\n",
      "val Loss: 0.8526 F1: nan Acc: 0.2235\n",
      "\n",
      "Epoch 6/9\n",
      "----------\n",
      "train Loss: 0.7477 F1: nan Acc: 0.4810\n",
      "val Loss: 0.8238 F1: nan Acc: 0.2235\n",
      "\n",
      "Epoch 7/9\n",
      "----------\n",
      "train Loss: 0.7361 F1: nan Acc: 0.4810\n",
      "val Loss: 0.7583 F1: 0.0299 Acc: 0.2353\n",
      "\n",
      "Epoch 8/9\n",
      "----------\n",
      "train Loss: 0.7142 F1: nan Acc: 0.4304\n",
      "val Loss: 0.6900 F1: 0.6491 Acc: 0.5294\n",
      "\n",
      "Epoch 9/9\n",
      "----------\n",
      "train Loss: 0.6995 F1: 0.5161 Acc: 0.4304\n",
      "val Loss: 0.6337 F1: 0.8742 Acc: 0.7765\n",
      "\n",
      "Training complete in 0m 26s\n",
      "Best val F1  : 0.874172\n",
      "Best val Acc : 0.776471\n"
     ]
    }
   ],
   "source": [
    "ex.run()"
   ]
  },
  {
   "cell_type": "code",
   "execution_count": 29,
   "metadata": {},
   "outputs": [],
   "source": [
    "import pandas as pd"
   ]
  },
  {
   "cell_type": "code",
   "execution_count": 45,
   "metadata": {},
   "outputs": [],
   "source": [
    "paths = glob.glob('results/*.csv') # * means all if need specific format then *.csv\n",
    "latest = max(paths, key=os.path.getctime)\n",
    "df = pd.read_csv(latest)"
   ]
  },
  {
   "cell_type": "code",
   "execution_count": 46,
   "metadata": {},
   "outputs": [
    {
     "data": {
      "text/html": [
       "<div>\n",
       "<style scoped>\n",
       "    .dataframe tbody tr th:only-of-type {\n",
       "        vertical-align: middle;\n",
       "    }\n",
       "\n",
       "    .dataframe tbody tr th {\n",
       "        vertical-align: top;\n",
       "    }\n",
       "\n",
       "    .dataframe thead th {\n",
       "        text-align: right;\n",
       "    }\n",
       "</style>\n",
       "<table border=\"1\" class=\"dataframe\">\n",
       "  <thead>\n",
       "    <tr style=\"text-align: right;\">\n",
       "      <th></th>\n",
       "      <th>batch_size</th>\n",
       "      <th>conv_model_name</th>\n",
       "      <th>data_path_base</th>\n",
       "      <th>experiment_uuid</th>\n",
       "      <th>feature_extract</th>\n",
       "      <th>lr</th>\n",
       "      <th>momentum</th>\n",
       "      <th>num_epochs</th>\n",
       "      <th>runner_uuid</th>\n",
       "      <th>use_vggish</th>\n",
       "      <th>val_acc</th>\n",
       "      <th>val_f1</th>\n",
       "    </tr>\n",
       "  </thead>\n",
       "  <tbody>\n",
       "    <tr>\n",
       "      <th>1</th>\n",
       "      <td>64</td>\n",
       "      <td>resnet</td>\n",
       "      <td>/Users/aziai/Downloads/vtest_new2</td>\n",
       "      <td>20191402191416</td>\n",
       "      <td>False</td>\n",
       "      <td>0.001</td>\n",
       "      <td>0.9</td>\n",
       "      <td>10</td>\n",
       "      <td>b3290017112d2116e4bdbb9c8dbf15a8e75adacb942afb...</td>\n",
       "      <td>True</td>\n",
       "      <td>0.894118</td>\n",
       "      <td>0.935252</td>\n",
       "    </tr>\n",
       "    <tr>\n",
       "      <th>0</th>\n",
       "      <td>64</td>\n",
       "      <td>resnet</td>\n",
       "      <td>/Users/aziai/Downloads/vtest_new2</td>\n",
       "      <td>20191402191416</td>\n",
       "      <td>False</td>\n",
       "      <td>0.001</td>\n",
       "      <td>0.9</td>\n",
       "      <td>10</td>\n",
       "      <td>0e57debc92afdd0dc7a209584b4d97860c9dba98f3aed4...</td>\n",
       "      <td>False</td>\n",
       "      <td>0.823529</td>\n",
       "      <td>0.878049</td>\n",
       "    </tr>\n",
       "    <tr>\n",
       "      <th>3</th>\n",
       "      <td>64</td>\n",
       "      <td>resnet</td>\n",
       "      <td>/Users/aziai/Downloads/vtest_new2</td>\n",
       "      <td>20191402191416</td>\n",
       "      <td>True</td>\n",
       "      <td>0.001</td>\n",
       "      <td>0.9</td>\n",
       "      <td>10</td>\n",
       "      <td>8e644bc291a463725bf0bcb11825a196383a4860eeecd7...</td>\n",
       "      <td>True</td>\n",
       "      <td>0.729412</td>\n",
       "      <td>0.824427</td>\n",
       "    </tr>\n",
       "    <tr>\n",
       "      <th>2</th>\n",
       "      <td>64</td>\n",
       "      <td>resnet</td>\n",
       "      <td>/Users/aziai/Downloads/vtest_new2</td>\n",
       "      <td>20191402191416</td>\n",
       "      <td>True</td>\n",
       "      <td>0.001</td>\n",
       "      <td>0.9</td>\n",
       "      <td>10</td>\n",
       "      <td>e07e5119b07164f06098d1adba9e4c43ad0344716a0746...</td>\n",
       "      <td>False</td>\n",
       "      <td>0.564706</td>\n",
       "      <td>0.626263</td>\n",
       "    </tr>\n",
       "  </tbody>\n",
       "</table>\n",
       "</div>"
      ],
      "text/plain": [
       "   batch_size conv_model_name                     data_path_base  ...  use_vggish   val_acc    val_f1\n",
       "1          64          resnet  /Users/aziai/Downloads/vtest_new2  ...        True  0.894118  0.935252\n",
       "0          64          resnet  /Users/aziai/Downloads/vtest_new2  ...       False  0.823529  0.878049\n",
       "3          64          resnet  /Users/aziai/Downloads/vtest_new2  ...        True  0.729412  0.824427\n",
       "2          64          resnet  /Users/aziai/Downloads/vtest_new2  ...       False  0.564706  0.626263\n",
       "\n",
       "[4 rows x 12 columns]"
      ]
     },
     "execution_count": 46,
     "metadata": {},
     "output_type": "execute_result"
    }
   ],
   "source": [
    "df.sort_values(by='val_f1', ascending=False)"
   ]
  },
  {
   "cell_type": "code",
   "execution_count": null,
   "metadata": {},
   "outputs": [],
   "source": []
  }
 ],
 "metadata": {
  "kernelspec": {
   "display_name": "Python 3",
   "language": "python",
   "name": "python3"
  },
  "language_info": {
   "codemirror_mode": {
    "name": "ipython",
    "version": 3
   },
   "file_extension": ".py",
   "mimetype": "text/x-python",
   "name": "python",
   "nbconvert_exporter": "python",
   "pygments_lexer": "ipython3",
   "version": "3.7.2"
  }
 },
 "nbformat": 4,
 "nbformat_minor": 2
}
